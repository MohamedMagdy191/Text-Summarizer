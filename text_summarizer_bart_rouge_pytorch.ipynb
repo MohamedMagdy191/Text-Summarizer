{
  "metadata": {
    "kernelspec": {
      "language": "python",
      "display_name": "Python 3",
      "name": "python3"
    },
    "language_info": {
      "name": "python",
      "version": "3.10.12",
      "mimetype": "text/x-python",
      "codemirror_mode": {
        "name": "ipython",
        "version": 3
      },
      "pygments_lexer": "ipython3",
      "nbconvert_exporter": "python",
      "file_extension": ".py"
    },
    "colab": {
      "provenance": []
    }
  },
  "nbformat_minor": 0,
  "nbformat": 4,
  "cells": [
    {
      "cell_type": "markdown",
      "source": [
        "# Text Summarization\n",
        "\n",
        "Text summarization is the process of condensing a longer piece of text into a shorter version while preserving the main ideas and key information. It aims to capture the essence of the original text and present it in a concise and coherent manner. The goal of text summarization is to save time and effort for readers by providing a summary that captures the most important points of the document.\n",
        "\n"
      ],
      "metadata": {
        "id": "3vHMpcEAONkd"
      }
    },
    {
      "cell_type": "markdown",
      "source": [
        "# Two types of Text Summarization\n",
        "\n",
        "\n",
        "    \n",
        "* Extractive Summarization: This approach involves selecting the most relevant sentences or phrases from the original text and combining them to form a summary. Extractive summarization methods typically rank sentences based on their importance, using techniques such as frequency analysis, statistical methods, or machine learning algorithms. The selected sentences are then arranged to create a coherent summary.\n",
        "\n",
        "* Abstractive Summarization: In contrast to extractive summarization, abstractive summarization aims to generate a summary that may contain words, phrases, or even sentences that were not present in the original text. It involves understanding the meaning of the text and generating a summary in a more human-like manner. Abstractive methods often employ natural language processing (NLP) techniques, such as language generation models, to paraphrase and generate new sentences that capture the essential information."
      ],
      "metadata": {
        "id": "TVERsTT9ONkf"
      }
    },
    {
      "cell_type": "markdown",
      "source": [
        "# Building Text Summarizer using BART\n",
        "\n",
        "<div style=\"background-color:#cdd3dd; color:##cdd3dd; font-size:18px; font-family:cursive; padding:10px; border: 5px solid #19180F;\">In this notebook we will build Text summarizer (Abstractive Summarization) using BART, we will fine-tune BART using BBC News Summary dataset which contains 2225 pair of nwes and its summaries.  </div>\n"
      ],
      "metadata": {
        "id": "_imvciYxONkg"
      }
    },
    {
      "cell_type": "markdown",
      "source": [
        "# BART\n",
        "\n",
        "\n",
        "BART (Bidirectional and Auto-Regressive Transformers) is a sequence-to-sequence model introduced by Facebook AI Research. It is based on the Transformer architecture and is designed for various natural language processing tasks, including text generation, text completion, and text classification.\n",
        "\n",
        "BART combines ideas from both autoencoders and autoregressive models. It consists of an encoder-decoder architecture, where the encoder reads the input text and the decoder generates the output text. BART has a bidirectional structure, meaning it can take into account both the left and right context of a given word when generating the output sequence."
      ],
      "metadata": {
        "id": "RbB79s5-ONkg"
      }
    },
    {
      "cell_type": "markdown",
      "source": [
        "# BART's Architectural Diagram\n",
        "\n",
        "![BART.JPG](attachment:0c109ebd-643a-4672-ba6b-37f454e60c3f.JPG)"
      ],
      "metadata": {
        "id": "tba1LjSFONkg"
      }
    },
    {
      "cell_type": "markdown",
      "source": [
        "# Importing the requirements"
      ],
      "metadata": {
        "id": "n1BGcmjaONkg"
      }
    },
    {
      "cell_type": "code",
      "source": [
        "!pip install rouge_score\n",
        "!pip install evaluate\n",
        "!pip install --upgrade -q wandb"
      ],
      "metadata": {
        "_kg_hide-output": true,
        "execution": {
          "iopub.status.busy": "2023-08-21T11:14:14.846806Z",
          "iopub.execute_input": "2023-08-21T11:14:14.847169Z",
          "iopub.status.idle": "2023-08-21T11:15:00.409142Z",
          "shell.execute_reply.started": "2023-08-21T11:14:14.847136Z",
          "shell.execute_reply": "2023-08-21T11:15:00.407810Z"
        },
        "_kg_hide-input": false,
        "trusted": true,
        "id": "8-oZQAQ5ONkh",
        "outputId": "e1967866-3cb6-44c2-c183-cf216df480e9"
      },
      "execution_count": null,
      "outputs": [
        {
          "name": "stdout",
          "text": "Collecting rouge_score\n  Downloading rouge_score-0.1.2.tar.gz (17 kB)\n  Preparing metadata (setup.py) ... \u001b[?25ldone\n\u001b[?25hRequirement already satisfied: absl-py in /opt/conda/lib/python3.10/site-packages (from rouge_score) (1.4.0)\nRequirement already satisfied: nltk in /opt/conda/lib/python3.10/site-packages (from rouge_score) (3.2.4)\nRequirement already satisfied: numpy in /opt/conda/lib/python3.10/site-packages (from rouge_score) (1.23.5)\nRequirement already satisfied: six>=1.14.0 in /opt/conda/lib/python3.10/site-packages (from rouge_score) (1.16.0)\nBuilding wheels for collected packages: rouge_score\n  Building wheel for rouge_score (setup.py) ... \u001b[?25ldone\n\u001b[?25h  Created wheel for rouge_score: filename=rouge_score-0.1.2-py3-none-any.whl size=24954 sha256=ed4666f2b2d051b65ec10ab20f892efdc5555ed48e40e5d9b802579fea6866b8\n  Stored in directory: /root/.cache/pip/wheels/5f/dd/89/461065a73be61a532ff8599a28e9beef17985c9e9c31e541b4\nSuccessfully built rouge_score\nInstalling collected packages: rouge_score\nSuccessfully installed rouge_score-0.1.2\nCollecting evaluate\n  Downloading evaluate-0.4.0-py3-none-any.whl (81 kB)\n\u001b[2K     \u001b[90m━━━━━━━━━━━━━━━━━━━━━━━━━━━━━━━━━━━━━━━━\u001b[0m \u001b[32m81.4/81.4 kB\u001b[0m \u001b[31m2.3 MB/s\u001b[0m eta \u001b[36m0:00:00\u001b[0m\n\u001b[?25hRequirement already satisfied: datasets>=2.0.0 in /opt/conda/lib/python3.10/site-packages (from evaluate) (2.1.0)\nRequirement already satisfied: numpy>=1.17 in /opt/conda/lib/python3.10/site-packages (from evaluate) (1.23.5)\nRequirement already satisfied: dill in /opt/conda/lib/python3.10/site-packages (from evaluate) (0.3.6)\nRequirement already satisfied: pandas in /opt/conda/lib/python3.10/site-packages (from evaluate) (1.5.3)\nRequirement already satisfied: requests>=2.19.0 in /opt/conda/lib/python3.10/site-packages (from evaluate) (2.31.0)\nRequirement already satisfied: tqdm>=4.62.1 in /opt/conda/lib/python3.10/site-packages (from evaluate) (4.65.0)\nRequirement already satisfied: xxhash in /opt/conda/lib/python3.10/site-packages (from evaluate) (3.2.0)\nRequirement already satisfied: multiprocess in /opt/conda/lib/python3.10/site-packages (from evaluate) (0.70.14)\nRequirement already satisfied: fsspec[http]>=2021.05.0 in /opt/conda/lib/python3.10/site-packages (from evaluate) (2023.6.0)\nRequirement already satisfied: huggingface-hub>=0.7.0 in /opt/conda/lib/python3.10/site-packages (from evaluate) (0.16.4)\nRequirement already satisfied: packaging in /opt/conda/lib/python3.10/site-packages (from evaluate) (21.3)\nRequirement already satisfied: responses<0.19 in /opt/conda/lib/python3.10/site-packages (from evaluate) (0.18.0)\nRequirement already satisfied: pyarrow>=5.0.0 in /opt/conda/lib/python3.10/site-packages (from datasets>=2.0.0->evaluate) (11.0.0)\nRequirement already satisfied: aiohttp in /opt/conda/lib/python3.10/site-packages (from datasets>=2.0.0->evaluate) (3.8.4)\nRequirement already satisfied: filelock in /opt/conda/lib/python3.10/site-packages (from huggingface-hub>=0.7.0->evaluate) (3.12.2)\nRequirement already satisfied: pyyaml>=5.1 in /opt/conda/lib/python3.10/site-packages (from huggingface-hub>=0.7.0->evaluate) (6.0)\nRequirement already satisfied: typing-extensions>=3.7.4.3 in /opt/conda/lib/python3.10/site-packages (from huggingface-hub>=0.7.0->evaluate) (4.6.3)\nRequirement already satisfied: pyparsing!=3.0.5,>=2.0.2 in /opt/conda/lib/python3.10/site-packages (from packaging->evaluate) (3.0.9)\nRequirement already satisfied: charset-normalizer<4,>=2 in /opt/conda/lib/python3.10/site-packages (from requests>=2.19.0->evaluate) (3.1.0)\nRequirement already satisfied: idna<4,>=2.5 in /opt/conda/lib/python3.10/site-packages (from requests>=2.19.0->evaluate) (3.4)\nRequirement already satisfied: urllib3<3,>=1.21.1 in /opt/conda/lib/python3.10/site-packages (from requests>=2.19.0->evaluate) (1.26.15)\nRequirement already satisfied: certifi>=2017.4.17 in /opt/conda/lib/python3.10/site-packages (from requests>=2.19.0->evaluate) (2023.5.7)\nRequirement already satisfied: python-dateutil>=2.8.1 in /opt/conda/lib/python3.10/site-packages (from pandas->evaluate) (2.8.2)\nRequirement already satisfied: pytz>=2020.1 in /opt/conda/lib/python3.10/site-packages (from pandas->evaluate) (2023.3)\nRequirement already satisfied: attrs>=17.3.0 in /opt/conda/lib/python3.10/site-packages (from aiohttp->datasets>=2.0.0->evaluate) (23.1.0)\nRequirement already satisfied: multidict<7.0,>=4.5 in /opt/conda/lib/python3.10/site-packages (from aiohttp->datasets>=2.0.0->evaluate) (6.0.4)\nRequirement already satisfied: async-timeout<5.0,>=4.0.0a3 in /opt/conda/lib/python3.10/site-packages (from aiohttp->datasets>=2.0.0->evaluate) (4.0.2)\nRequirement already satisfied: yarl<2.0,>=1.0 in /opt/conda/lib/python3.10/site-packages (from aiohttp->datasets>=2.0.0->evaluate) (1.9.2)\nRequirement already satisfied: frozenlist>=1.1.1 in /opt/conda/lib/python3.10/site-packages (from aiohttp->datasets>=2.0.0->evaluate) (1.3.3)\nRequirement already satisfied: aiosignal>=1.1.2 in /opt/conda/lib/python3.10/site-packages (from aiohttp->datasets>=2.0.0->evaluate) (1.3.1)\nRequirement already satisfied: six>=1.5 in /opt/conda/lib/python3.10/site-packages (from python-dateutil>=2.8.1->pandas->evaluate) (1.16.0)\nInstalling collected packages: evaluate\nSuccessfully installed evaluate-0.4.0\n",
          "output_type": "stream"
        }
      ]
    },
    {
      "cell_type": "code",
      "source": [
        "import pandas as pd\n",
        "import numpy as np\n",
        "import os\n",
        "\n",
        "import matplotlib.pyplot as plt\n",
        "import seaborn as sns\n",
        "\n",
        "import torch\n",
        "import torch.nn as nn\n",
        "\n",
        "from transformers import AutoModelForSeq2SeqLM, AutoTokenizer, pipeline, set_seed\n",
        "from transformers import DataCollatorForSeq2Seq\n",
        "from transformers import Seq2SeqTrainer\n",
        "from transformers import Seq2SeqTrainingArguments\n",
        "\n",
        "import datasets\n",
        "from datasets import load_metric, Dataset\n",
        "from datasets import DatasetDict\n",
        "\n",
        "from tqdm import tqdm\n",
        "\n",
        "import wandb\n",
        "\n",
        "import nltk\n",
        "from nltk.tokenize import sent_tokenize\n",
        "nltk.download(\"punkt\")\n",
        "\n",
        "import warnings\n",
        "warnings.filterwarnings('ignore')"
      ],
      "metadata": {
        "_kg_hide-output": true,
        "execution": {
          "iopub.status.busy": "2023-08-21T11:15:00.411795Z",
          "iopub.execute_input": "2023-08-21T11:15:00.412168Z",
          "iopub.status.idle": "2023-08-21T11:15:27.819400Z",
          "shell.execute_reply.started": "2023-08-21T11:15:00.412132Z",
          "shell.execute_reply": "2023-08-21T11:15:27.818400Z"
        },
        "trusted": true,
        "id": "q2pv4jnYONki",
        "outputId": "f11355bc-9e5d-47ed-fef8-13b9d9b1f3ea"
      },
      "execution_count": null,
      "outputs": [
        {
          "name": "stderr",
          "text": "/opt/conda/lib/python3.10/site-packages/scipy/__init__.py:146: UserWarning: A NumPy version >=1.16.5 and <1.23.0 is required for this version of SciPy (detected version 1.23.5\n  warnings.warn(f\"A NumPy version >={np_minversion} and <{np_maxversion}\"\n/opt/conda/lib/python3.10/site-packages/tensorflow_io/python/ops/__init__.py:98: UserWarning: unable to load libtensorflow_io_plugins.so: unable to open file: libtensorflow_io_plugins.so, from paths: ['/opt/conda/lib/python3.10/site-packages/tensorflow_io/python/ops/libtensorflow_io_plugins.so']\ncaused by: ['/opt/conda/lib/python3.10/site-packages/tensorflow_io/python/ops/libtensorflow_io_plugins.so: undefined symbol: _ZN3tsl6StatusC1EN10tensorflow5error4CodeESt17basic_string_viewIcSt11char_traitsIcEENS_14SourceLocationE']\n  warnings.warn(f\"unable to load libtensorflow_io_plugins.so: {e}\")\n/opt/conda/lib/python3.10/site-packages/tensorflow_io/python/ops/__init__.py:104: UserWarning: file system plugins are not loaded: unable to open file: libtensorflow_io.so, from paths: ['/opt/conda/lib/python3.10/site-packages/tensorflow_io/python/ops/libtensorflow_io.so']\ncaused by: ['/opt/conda/lib/python3.10/site-packages/tensorflow_io/python/ops/libtensorflow_io.so: undefined symbol: _ZTVN10tensorflow13GcsFileSystemE']\n  warnings.warn(f\"file system plugins are not loaded: {e}\")\n",
          "output_type": "stream"
        },
        {
          "name": "stdout",
          "text": "[nltk_data] Downloading package punkt to /usr/share/nltk_data...\n[nltk_data]   Package punkt is already up-to-date!\n",
          "output_type": "stream"
        },
        {
          "execution_count": 2,
          "output_type": "execute_result",
          "data": {
            "text/plain": "True"
          },
          "metadata": {}
        }
      ]
    },
    {
      "cell_type": "code",
      "source": [
        "# kaggle_secrets to use the tokens from huggingface and wandb\n",
        "\n",
        "from kaggle_secrets import UserSecretsClient\n",
        "\n",
        "user_secrets = UserSecretsClient()\n",
        "secret_value_0 = user_secrets.get_secret(\"text-summarizer\")\n",
        "secret_value_1 = user_secrets.get_secret(\"wandb\")"
      ],
      "metadata": {
        "execution": {
          "iopub.status.busy": "2023-08-21T11:15:27.822599Z",
          "iopub.execute_input": "2023-08-21T11:15:27.823257Z",
          "iopub.status.idle": "2023-08-21T11:15:28.194455Z",
          "shell.execute_reply.started": "2023-08-21T11:15:27.823229Z",
          "shell.execute_reply": "2023-08-21T11:15:28.193380Z"
        },
        "trusted": true,
        "id": "TRco6WVZONki"
      },
      "execution_count": null,
      "outputs": []
    },
    {
      "cell_type": "code",
      "source": [
        "wandb.login(key = secret_value_1)"
      ],
      "metadata": {
        "execution": {
          "iopub.status.busy": "2023-08-21T11:15:28.197593Z",
          "iopub.execute_input": "2023-08-21T11:15:28.198321Z",
          "iopub.status.idle": "2023-08-21T11:15:30.677366Z",
          "shell.execute_reply.started": "2023-08-21T11:15:28.198292Z",
          "shell.execute_reply": "2023-08-21T11:15:30.676436Z"
        },
        "trusted": true,
        "id": "tVFe99qLONki",
        "outputId": "1e83cebe-cd45-4081-b011-3ff60f24773d"
      },
      "execution_count": null,
      "outputs": [
        {
          "name": "stderr",
          "text": "\u001b[34m\u001b[1mwandb\u001b[0m: W&B API key is configured. Use \u001b[1m`wandb login --relogin`\u001b[0m to force relogin\n\u001b[34m\u001b[1mwandb\u001b[0m: \u001b[33mWARNING\u001b[0m If you're specifying your api key in code, ensure this code is not shared publicly.\n\u001b[34m\u001b[1mwandb\u001b[0m: \u001b[33mWARNING\u001b[0m Consider setting the WANDB_API_KEY environment variable, or running `wandb login` from the command line.\n\u001b[34m\u001b[1mwandb\u001b[0m: Appending key for api.wandb.ai to your netrc file: /root/.netrc\n",
          "output_type": "stream"
        },
        {
          "execution_count": 4,
          "output_type": "execute_result",
          "data": {
            "text/plain": "True"
          },
          "metadata": {}
        }
      ]
    },
    {
      "cell_type": "code",
      "source": [
        "# log in to the Hugging Face Hub\n",
        "\n",
        "import huggingface_hub\n",
        "\n",
        "huggingface_hub.login(token=secret_value_0)"
      ],
      "metadata": {
        "execution": {
          "iopub.status.busy": "2023-08-21T11:15:30.678944Z",
          "iopub.execute_input": "2023-08-21T11:15:30.679841Z",
          "iopub.status.idle": "2023-08-21T11:15:30.928587Z",
          "shell.execute_reply.started": "2023-08-21T11:15:30.679800Z",
          "shell.execute_reply": "2023-08-21T11:15:30.927568Z"
        },
        "trusted": true,
        "id": "yNDnyjenONkj",
        "outputId": "8ee24aa0-3ee3-4e84-bf11-277bb0098ef3"
      },
      "execution_count": null,
      "outputs": [
        {
          "name": "stdout",
          "text": "Token will not been saved to git credential helper. Pass `add_to_git_credential=True` if you want to set the git credential as well.\nToken is valid (permission: write).\nYour token has been saved to /root/.cache/huggingface/token\nLogin successful\n",
          "output_type": "stream"
        }
      ]
    },
    {
      "cell_type": "code",
      "source": [
        "device = \"cuda\" if torch.cuda.is_available() else \"cpu\"\n",
        "\n",
        "model_ckpt = \"facebook/bart-base\"\n",
        "\n",
        "tokenizer = AutoTokenizer.from_pretrained(model_ckpt)\n",
        "\n",
        "model = AutoModelForSeq2SeqLM.from_pretrained(model_ckpt).to(device)"
      ],
      "metadata": {
        "_kg_hide-output": true,
        "execution": {
          "iopub.status.busy": "2023-08-21T11:15:30.930332Z",
          "iopub.execute_input": "2023-08-21T11:15:30.931070Z",
          "iopub.status.idle": "2023-08-21T11:16:22.887092Z",
          "shell.execute_reply.started": "2023-08-21T11:15:30.931034Z",
          "shell.execute_reply": "2023-08-21T11:16:22.886045Z"
        },
        "trusted": true,
        "colab": {
          "referenced_widgets": [
            "83921dabcad645d9a188d763a98ca411",
            "5323521e29ea44889f171e28c8ec2ced",
            "3a75dbefd20643188d92f7db2074c3f2",
            "fb0890956a4f466e8378eefb8c185c4b",
            "4c3383f1354d47be9ad53afa526a9d58"
          ]
        },
        "id": "XQ3lYt6hONkj",
        "outputId": "1fd0b1a8-95a3-417e-aecd-3d86c4f15b1c"
      },
      "execution_count": null,
      "outputs": [
        {
          "output_type": "display_data",
          "data": {
            "text/plain": "Downloading (…)lve/main/config.json:   0%|          | 0.00/1.72k [00:00<?, ?B/s]",
            "application/vnd.jupyter.widget-view+json": {
              "version_major": 2,
              "version_minor": 0,
              "model_id": "83921dabcad645d9a188d763a98ca411"
            }
          },
          "metadata": {}
        },
        {
          "output_type": "display_data",
          "data": {
            "text/plain": "Downloading (…)olve/main/vocab.json:   0%|          | 0.00/899k [00:00<?, ?B/s]",
            "application/vnd.jupyter.widget-view+json": {
              "version_major": 2,
              "version_minor": 0,
              "model_id": "5323521e29ea44889f171e28c8ec2ced"
            }
          },
          "metadata": {}
        },
        {
          "output_type": "display_data",
          "data": {
            "text/plain": "Downloading (…)olve/main/merges.txt:   0%|          | 0.00/456k [00:00<?, ?B/s]",
            "application/vnd.jupyter.widget-view+json": {
              "version_major": 2,
              "version_minor": 0,
              "model_id": "3a75dbefd20643188d92f7db2074c3f2"
            }
          },
          "metadata": {}
        },
        {
          "output_type": "display_data",
          "data": {
            "text/plain": "Downloading (…)/main/tokenizer.json:   0%|          | 0.00/1.36M [00:00<?, ?B/s]",
            "application/vnd.jupyter.widget-view+json": {
              "version_major": 2,
              "version_minor": 0,
              "model_id": "fb0890956a4f466e8378eefb8c185c4b"
            }
          },
          "metadata": {}
        },
        {
          "output_type": "display_data",
          "data": {
            "text/plain": "Downloading model.safetensors:   0%|          | 0.00/558M [00:00<?, ?B/s]",
            "application/vnd.jupyter.widget-view+json": {
              "version_major": 2,
              "version_minor": 0,
              "model_id": "4c3383f1354d47be9ad53afa526a9d58"
            }
          },
          "metadata": {}
        }
      ]
    },
    {
      "cell_type": "markdown",
      "source": [
        "# Data Anlaysis"
      ],
      "metadata": {
        "id": "kff198g4ONkj"
      }
    },
    {
      "cell_type": "code",
      "source": [
        "paths = os.listdir('../input/bbc-news-summary/BBC News Summary/News Articles')\n",
        "articles_path = '../input/bbc-news-summary/BBC News Summary/News Articles/'\n",
        "summaries_path = '../input/bbc-news-summary/BBC News Summary/Summaries/'\n",
        "\n",
        "articles = []\n",
        "summaries = []\n",
        "file_arr = []\n",
        "\n",
        "for path in paths:\n",
        "    files = os.listdir(articles_path + path)\n",
        "    for file in files:\n",
        "        article_file_path = articles_path + path + '/' + file\n",
        "        summary_file_path = summaries_path + path + '/' + file\n",
        "        try:\n",
        "            with open (article_file_path,'r') as f:\n",
        "                articles.append('.'.join([line.rstrip() for line in f.readlines()]))\n",
        "            with open (summary_file_path,'r') as f:\n",
        "                summaries.append('.'.join([line.rstrip() for line in f.readlines()]))\n",
        "            file_arr.append(path + '/' + file)\n",
        "        except:\n",
        "            pass"
      ],
      "metadata": {
        "execution": {
          "iopub.status.busy": "2023-08-21T11:16:22.888847Z",
          "iopub.execute_input": "2023-08-21T11:16:22.889238Z",
          "iopub.status.idle": "2023-08-21T11:16:51.961881Z",
          "shell.execute_reply.started": "2023-08-21T11:16:22.889200Z",
          "shell.execute_reply": "2023-08-21T11:16:51.960851Z"
        },
        "trusted": true,
        "id": "K9F7WdzaONkj"
      },
      "execution_count": null,
      "outputs": []
    },
    {
      "cell_type": "code",
      "source": [
        "df = pd.DataFrame({'path':file_arr,'article': articles,'summary':summaries})\n",
        "df.head()"
      ],
      "metadata": {
        "execution": {
          "iopub.status.busy": "2023-08-21T11:16:51.963337Z",
          "iopub.execute_input": "2023-08-21T11:16:51.963723Z",
          "iopub.status.idle": "2023-08-21T11:16:51.990787Z",
          "shell.execute_reply.started": "2023-08-21T11:16:51.963687Z",
          "shell.execute_reply": "2023-08-21T11:16:51.989787Z"
        },
        "trusted": true,
        "id": "0GiytZdIONkj",
        "outputId": "0cbd0927-0757-4972-a96c-8e7f701ce31e"
      },
      "execution_count": null,
      "outputs": [
        {
          "execution_count": 8,
          "output_type": "execute_result",
          "data": {
            "text/plain": "               path                                            article  \\\n0  politics/361.txt  Budget to set scene for election..Gordon Brown...   \n1  politics/245.txt  Army chiefs in regiments decision..Military ch...   \n2  politics/141.txt  Howard denies split over ID cards..Michael How...   \n3  politics/372.txt  Observers to monitor UK election..Ministers wi...   \n4  politics/333.txt  Kilroy names election seat target..Ex-chat sho...   \n\n                                             summary  \n0  - Increase in the stamp duty threshold from £6...  \n1  \"They are very much not for the good and will ...  \n2  Michael Howard has denied his shadow cabinet w...  \n3  The report said individual registration should...  \n4  UKIP's leader, Roger Knapman, has said he is g...  ",
            "text/html": "<div>\n<style scoped>\n    .dataframe tbody tr th:only-of-type {\n        vertical-align: middle;\n    }\n\n    .dataframe tbody tr th {\n        vertical-align: top;\n    }\n\n    .dataframe thead th {\n        text-align: right;\n    }\n</style>\n<table border=\"1\" class=\"dataframe\">\n  <thead>\n    <tr style=\"text-align: right;\">\n      <th></th>\n      <th>path</th>\n      <th>article</th>\n      <th>summary</th>\n    </tr>\n  </thead>\n  <tbody>\n    <tr>\n      <th>0</th>\n      <td>politics/361.txt</td>\n      <td>Budget to set scene for election..Gordon Brown...</td>\n      <td>- Increase in the stamp duty threshold from £6...</td>\n    </tr>\n    <tr>\n      <th>1</th>\n      <td>politics/245.txt</td>\n      <td>Army chiefs in regiments decision..Military ch...</td>\n      <td>\"They are very much not for the good and will ...</td>\n    </tr>\n    <tr>\n      <th>2</th>\n      <td>politics/141.txt</td>\n      <td>Howard denies split over ID cards..Michael How...</td>\n      <td>Michael Howard has denied his shadow cabinet w...</td>\n    </tr>\n    <tr>\n      <th>3</th>\n      <td>politics/372.txt</td>\n      <td>Observers to monitor UK election..Ministers wi...</td>\n      <td>The report said individual registration should...</td>\n    </tr>\n    <tr>\n      <th>4</th>\n      <td>politics/333.txt</td>\n      <td>Kilroy names election seat target..Ex-chat sho...</td>\n      <td>UKIP's leader, Roger Knapman, has said he is g...</td>\n    </tr>\n  </tbody>\n</table>\n</div>"
          },
          "metadata": {}
        }
      ]
    },
    {
      "cell_type": "code",
      "source": [
        "# removing nans if any\n",
        "\n",
        "df.dropna(inplace=True)\n",
        "df.isnull().sum()"
      ],
      "metadata": {
        "execution": {
          "iopub.status.busy": "2023-08-21T11:16:51.992234Z",
          "iopub.execute_input": "2023-08-21T11:16:51.993750Z",
          "iopub.status.idle": "2023-08-21T11:16:52.010153Z",
          "shell.execute_reply.started": "2023-08-21T11:16:51.993715Z",
          "shell.execute_reply": "2023-08-21T11:16:52.008812Z"
        },
        "trusted": true,
        "id": "Lt-bBi7UONkk",
        "outputId": "f75184f5-160a-4367-a91e-e2e0b91085e4"
      },
      "execution_count": null,
      "outputs": [
        {
          "execution_count": 9,
          "output_type": "execute_result",
          "data": {
            "text/plain": "path       0\narticle    0\nsummary    0\ndtype: int64"
          },
          "metadata": {}
        }
      ]
    },
    {
      "cell_type": "code",
      "source": [
        "# crating function to count the words in each sample\n",
        "\n",
        "def word_count(sentence):\n",
        "    sentences = sentence.split()\n",
        "    return len(sentences)"
      ],
      "metadata": {
        "execution": {
          "iopub.status.busy": "2023-08-21T11:16:52.017034Z",
          "iopub.execute_input": "2023-08-21T11:16:52.017764Z",
          "iopub.status.idle": "2023-08-21T11:16:52.022865Z",
          "shell.execute_reply.started": "2023-08-21T11:16:52.017726Z",
          "shell.execute_reply": "2023-08-21T11:16:52.021634Z"
        },
        "trusted": true,
        "id": "A8Sgdos2ONkk"
      },
      "execution_count": null,
      "outputs": []
    },
    {
      "cell_type": "code",
      "source": [
        "# creating new columns of word numbers\n",
        "\n",
        "df['num_words_article'] = df['article'].apply(word_count)\n",
        "df['num_words_summary'] = df['summary'].apply(word_count)\n",
        "df.head()"
      ],
      "metadata": {
        "execution": {
          "iopub.status.busy": "2023-08-21T11:16:52.024492Z",
          "iopub.execute_input": "2023-08-21T11:16:52.024881Z",
          "iopub.status.idle": "2023-08-21T11:16:52.135543Z",
          "shell.execute_reply.started": "2023-08-21T11:16:52.024849Z",
          "shell.execute_reply": "2023-08-21T11:16:52.134444Z"
        },
        "trusted": true,
        "id": "W_oowAqTONkk",
        "outputId": "f9303721-89d2-46e3-eb44-f1b4b22cf31f"
      },
      "execution_count": null,
      "outputs": [
        {
          "execution_count": 11,
          "output_type": "execute_result",
          "data": {
            "text/plain": "               path                                            article  \\\n0  politics/361.txt  Budget to set scene for election..Gordon Brown...   \n1  politics/245.txt  Army chiefs in regiments decision..Military ch...   \n2  politics/141.txt  Howard denies split over ID cards..Michael How...   \n3  politics/372.txt  Observers to monitor UK election..Ministers wi...   \n4  politics/333.txt  Kilroy names election seat target..Ex-chat sho...   \n\n                                             summary  num_words_article  \\\n0  - Increase in the stamp duty threshold from £6...                532   \n1  \"They are very much not for the good and will ...                496   \n2  Michael Howard has denied his shadow cabinet w...                533   \n3  The report said individual registration should...                490   \n4  UKIP's leader, Roger Knapman, has said he is g...                435   \n\n   num_words_summary  \n0                192  \n1                266  \n2                225  \n3                223  \n4                185  ",
            "text/html": "<div>\n<style scoped>\n    .dataframe tbody tr th:only-of-type {\n        vertical-align: middle;\n    }\n\n    .dataframe tbody tr th {\n        vertical-align: top;\n    }\n\n    .dataframe thead th {\n        text-align: right;\n    }\n</style>\n<table border=\"1\" class=\"dataframe\">\n  <thead>\n    <tr style=\"text-align: right;\">\n      <th></th>\n      <th>path</th>\n      <th>article</th>\n      <th>summary</th>\n      <th>num_words_article</th>\n      <th>num_words_summary</th>\n    </tr>\n  </thead>\n  <tbody>\n    <tr>\n      <th>0</th>\n      <td>politics/361.txt</td>\n      <td>Budget to set scene for election..Gordon Brown...</td>\n      <td>- Increase in the stamp duty threshold from £6...</td>\n      <td>532</td>\n      <td>192</td>\n    </tr>\n    <tr>\n      <th>1</th>\n      <td>politics/245.txt</td>\n      <td>Army chiefs in regiments decision..Military ch...</td>\n      <td>\"They are very much not for the good and will ...</td>\n      <td>496</td>\n      <td>266</td>\n    </tr>\n    <tr>\n      <th>2</th>\n      <td>politics/141.txt</td>\n      <td>Howard denies split over ID cards..Michael How...</td>\n      <td>Michael Howard has denied his shadow cabinet w...</td>\n      <td>533</td>\n      <td>225</td>\n    </tr>\n    <tr>\n      <th>3</th>\n      <td>politics/372.txt</td>\n      <td>Observers to monitor UK election..Ministers wi...</td>\n      <td>The report said individual registration should...</td>\n      <td>490</td>\n      <td>223</td>\n    </tr>\n    <tr>\n      <th>4</th>\n      <td>politics/333.txt</td>\n      <td>Kilroy names election seat target..Ex-chat sho...</td>\n      <td>UKIP's leader, Roger Knapman, has said he is g...</td>\n      <td>435</td>\n      <td>185</td>\n    </tr>\n  </tbody>\n</table>\n</div>"
          },
          "metadata": {}
        }
      ]
    },
    {
      "cell_type": "code",
      "source": [
        "# getting statistical info about the word lenghths\n",
        "\n",
        "df.describe()"
      ],
      "metadata": {
        "execution": {
          "iopub.status.busy": "2023-08-21T11:16:52.136868Z",
          "iopub.execute_input": "2023-08-21T11:16:52.137249Z",
          "iopub.status.idle": "2023-08-21T11:16:52.160515Z",
          "shell.execute_reply.started": "2023-08-21T11:16:52.137210Z",
          "shell.execute_reply": "2023-08-21T11:16:52.159541Z"
        },
        "trusted": true,
        "id": "ddX4fAF1ONkk",
        "outputId": "753ede1d-9029-4cc0-e83b-da830c5eeb2c"
      },
      "execution_count": null,
      "outputs": [
        {
          "execution_count": 12,
          "output_type": "execute_result",
          "data": {
            "text/plain": "       num_words_article  num_words_summary\ncount        2224.000000        2224.000000\nmean          379.286871         165.151529\nstd           235.081995         108.678038\nmin            87.000000          38.000000\n25%           242.000000         103.000000\n50%           327.000000         142.000000\n75%           465.250000         202.000000\nmax          4377.000000        2073.000000",
            "text/html": "<div>\n<style scoped>\n    .dataframe tbody tr th:only-of-type {\n        vertical-align: middle;\n    }\n\n    .dataframe tbody tr th {\n        vertical-align: top;\n    }\n\n    .dataframe thead th {\n        text-align: right;\n    }\n</style>\n<table border=\"1\" class=\"dataframe\">\n  <thead>\n    <tr style=\"text-align: right;\">\n      <th></th>\n      <th>num_words_article</th>\n      <th>num_words_summary</th>\n    </tr>\n  </thead>\n  <tbody>\n    <tr>\n      <th>count</th>\n      <td>2224.000000</td>\n      <td>2224.000000</td>\n    </tr>\n    <tr>\n      <th>mean</th>\n      <td>379.286871</td>\n      <td>165.151529</td>\n    </tr>\n    <tr>\n      <th>std</th>\n      <td>235.081995</td>\n      <td>108.678038</td>\n    </tr>\n    <tr>\n      <th>min</th>\n      <td>87.000000</td>\n      <td>38.000000</td>\n    </tr>\n    <tr>\n      <th>25%</th>\n      <td>242.000000</td>\n      <td>103.000000</td>\n    </tr>\n    <tr>\n      <th>50%</th>\n      <td>327.000000</td>\n      <td>142.000000</td>\n    </tr>\n    <tr>\n      <th>75%</th>\n      <td>465.250000</td>\n      <td>202.000000</td>\n    </tr>\n    <tr>\n      <th>max</th>\n      <td>4377.000000</td>\n      <td>2073.000000</td>\n    </tr>\n  </tbody>\n</table>\n</div>"
          },
          "metadata": {}
        }
      ]
    },
    {
      "cell_type": "code",
      "source": [
        "sns.boxplot(df[\"num_words_article\"])\n",
        "plt.ylabel(\"number of words\")\n",
        "plt.title(\"Boxplot of the articles number of words\")\n",
        "\n",
        "lines = plt.gca().lines[:6]\n",
        "all_lines = [lines[i].get_ydata()[0] for i in range(5)]\n",
        "\n",
        "Q1,Q3,article_lower_whisker,article_upper_whisker, Q2 = all_lines\n",
        "\n",
        "print(\"Upper whisker:\", article_upper_whisker)\n",
        "print(\"Q3:\", Q3)\n",
        "print(\"Q2:\", Q2)\n",
        "print(\"Q1:\", Q1)\n",
        "print(\"Lower whisker:\", article_lower_whisker)"
      ],
      "metadata": {
        "execution": {
          "iopub.status.busy": "2023-08-21T11:16:52.162007Z",
          "iopub.execute_input": "2023-08-21T11:16:52.162702Z",
          "iopub.status.idle": "2023-08-21T11:16:52.475228Z",
          "shell.execute_reply.started": "2023-08-21T11:16:52.162662Z",
          "shell.execute_reply": "2023-08-21T11:16:52.474274Z"
        },
        "trusted": true,
        "id": "GiFQybPjONkk",
        "outputId": "706ba637-8071-4e74-bba9-4b1dc8b7a4f8"
      },
      "execution_count": null,
      "outputs": [
        {
          "name": "stdout",
          "text": "Upper whisker: 799.0\nQ3: 465.25\nQ2: 327.0\nQ1: 242.0\nLower whisker: 87.0\n",
          "output_type": "stream"
        },
        {
          "output_type": "display_data",
          "data": {
            "text/plain": "<Figure size 640x480 with 1 Axes>",
            "image/png": "[encoded data removed]"
          },
          "metadata": {}
        }
      ]
    },
    {
      "cell_type": "code",
      "source": [
        "sns.boxplot(df[\"num_words_summary\"])\n",
        "plt.ylabel(\"number of words\")\n",
        "plt.title(\"Boxplot of the summaries number of words\")\n",
        "\n",
        "lines = plt.gca().lines[:6]\n",
        "all_lines = [lines[i].get_ydata()[0] for i in range(5)]\n",
        "\n",
        "Q1,Q3,summary_lower_whisker,summary_upper_whisker, Q2 = all_lines\n",
        "\n",
        "print(\"Upper whisker:\", summary_upper_whisker)\n",
        "print(\"Q3:\", Q3)\n",
        "print(\"Q2:\", Q2)\n",
        "print(\"Q1:\", Q1)\n",
        "print(\"Lower whisker:\", summary_lower_whisker)"
      ],
      "metadata": {
        "execution": {
          "iopub.status.busy": "2023-08-21T11:16:52.476932Z",
          "iopub.execute_input": "2023-08-21T11:16:52.477314Z",
          "iopub.status.idle": "2023-08-21T11:16:52.779518Z",
          "shell.execute_reply.started": "2023-08-21T11:16:52.477277Z",
          "shell.execute_reply": "2023-08-21T11:16:52.778551Z"
        },
        "trusted": true,
        "id": "A35adGtDONkl",
        "outputId": "9b25f61f-8085-4df2-a450-fc9e681423e1"
      },
      "execution_count": null,
      "outputs": [
        {
          "name": "stdout",
          "text": "Upper whisker: 350.0\nQ3: 202.0\nQ2: 142.0\nQ1: 103.0\nLower whisker: 38.0\n",
          "output_type": "stream"
        },
        {
          "output_type": "display_data",
          "data": {
            "text/plain": "<Figure size 640x480 with 1 Axes>",
            "image/png": "[encoded data removed]"
          },
          "metadata": {}
        }
      ]
    },
    {
      "cell_type": "code",
      "source": [
        "# removing the samples of very long sequences\n",
        "\n",
        "new_df = df[(df['num_words_summary'] <= summary_upper_whisker) & (df['num_words_article'] <= article_upper_whisker)]\n",
        "new_df"
      ],
      "metadata": {
        "execution": {
          "iopub.status.busy": "2023-08-21T11:16:52.781296Z",
          "iopub.execute_input": "2023-08-21T11:16:52.781936Z",
          "iopub.status.idle": "2023-08-21T11:16:52.802601Z",
          "shell.execute_reply.started": "2023-08-21T11:16:52.781899Z",
          "shell.execute_reply": "2023-08-21T11:16:52.801618Z"
        },
        "trusted": true,
        "id": "8fhkk-HJONkl",
        "outputId": "37d46afb-6aaa-4bc5-e44e-2b01515c507b"
      },
      "execution_count": null,
      "outputs": [
        {
          "execution_count": 15,
          "output_type": "execute_result",
          "data": {
            "text/plain": "                  path                                            article  \\\n0     politics/361.txt  Budget to set scene for election..Gordon Brown...   \n1     politics/245.txt  Army chiefs in regiments decision..Military ch...   \n2     politics/141.txt  Howard denies split over ID cards..Michael How...   \n3     politics/372.txt  Observers to monitor UK election..Ministers wi...   \n4     politics/333.txt  Kilroy names election seat target..Ex-chat sho...   \n...                ...                                                ...   \n2219  business/380.txt  India opens skies to competition..India will a...   \n2220  business/192.txt  Yukos bankruptcy 'not US matter'..Russian auth...   \n2221  business/248.txt  Survey confirms property slowdown..Government ...   \n2222  business/004.txt  High fuel prices hit BA's profits..British Air...   \n2223  business/024.txt  US trade gap hits record in 2004..The gap betw...   \n\n                                                summary  num_words_article  \\\n0     - Increase in the stamp duty threshold from £6...                532   \n1     \"They are very much not for the good and will ...                496   \n2     Michael Howard has denied his shadow cabinet w...                533   \n3     The report said individual registration should...                490   \n4     UKIP's leader, Roger Knapman, has said he is g...                435   \n...                                                 ...                ...   \n2219  India will allow domestic commercial airlines ...                222   \n2220  Yukos says a US court was entitled to declare ...                394   \n2221  House prices were 11.8% higher on the year in ...                318   \n2222  Rod Eddington, BA's chief executive, said the ...                401   \n2223  The Commerce Department said the trade deficit...                324   \n\n      num_words_summary  \n0                   192  \n1                   266  \n2                   225  \n3                   223  \n4                   185  \n...                 ...  \n2219                 90  \n2220                180  \n2221                120  \n2222                197  \n2223                148  \n\n[2145 rows x 5 columns]",
            "text/html": "<div>\n<style scoped>\n    .dataframe tbody tr th:only-of-type {\n        vertical-align: middle;\n    }\n\n    .dataframe tbody tr th {\n        vertical-align: top;\n    }\n\n    .dataframe thead th {\n        text-align: right;\n    }\n</style>\n<table border=\"1\" class=\"dataframe\">\n  <thead>\n    <tr style=\"text-align: right;\">\n      <th></th>\n      <th>path</th>\n      <th>article</th>\n      <th>summary</th>\n      <th>num_words_article</th>\n      <th>num_words_summary</th>\n    </tr>\n  </thead>\n  <tbody>\n    <tr>\n      <th>0</th>\n      <td>politics/361.txt</td>\n      <td>Budget to set scene for election..Gordon Brown...</td>\n      <td>- Increase in the stamp duty threshold from £6...</td>\n      <td>532</td>\n      <td>192</td>\n    </tr>\n    <tr>\n      <th>1</th>\n      <td>politics/245.txt</td>\n      <td>Army chiefs in regiments decision..Military ch...</td>\n      <td>\"They are very much not for the good and will ...</td>\n      <td>496</td>\n      <td>266</td>\n    </tr>\n    <tr>\n      <th>2</th>\n      <td>politics/141.txt</td>\n      <td>Howard denies split over ID cards..Michael How...</td>\n      <td>Michael Howard has denied his shadow cabinet w...</td>\n      <td>533</td>\n      <td>225</td>\n    </tr>\n    <tr>\n      <th>3</th>\n      <td>politics/372.txt</td>\n      <td>Observers to monitor UK election..Ministers wi...</td>\n      <td>The report said individual registration should...</td>\n      <td>490</td>\n      <td>223</td>\n    </tr>\n    <tr>\n      <th>4</th>\n      <td>politics/333.txt</td>\n      <td>Kilroy names election seat target..Ex-chat sho...</td>\n      <td>UKIP's leader, Roger Knapman, has said he is g...</td>\n      <td>435</td>\n      <td>185</td>\n    </tr>\n    <tr>\n      <th>...</th>\n      <td>...</td>\n      <td>...</td>\n      <td>...</td>\n      <td>...</td>\n      <td>...</td>\n    </tr>\n    <tr>\n      <th>2219</th>\n      <td>business/380.txt</td>\n      <td>India opens skies to competition..India will a...</td>\n      <td>India will allow domestic commercial airlines ...</td>\n      <td>222</td>\n      <td>90</td>\n    </tr>\n    <tr>\n      <th>2220</th>\n      <td>business/192.txt</td>\n      <td>Yukos bankruptcy 'not US matter'..Russian auth...</td>\n      <td>Yukos says a US court was entitled to declare ...</td>\n      <td>394</td>\n      <td>180</td>\n    </tr>\n    <tr>\n      <th>2221</th>\n      <td>business/248.txt</td>\n      <td>Survey confirms property slowdown..Government ...</td>\n      <td>House prices were 11.8% higher on the year in ...</td>\n      <td>318</td>\n      <td>120</td>\n    </tr>\n    <tr>\n      <th>2222</th>\n      <td>business/004.txt</td>\n      <td>High fuel prices hit BA's profits..British Air...</td>\n      <td>Rod Eddington, BA's chief executive, said the ...</td>\n      <td>401</td>\n      <td>197</td>\n    </tr>\n    <tr>\n      <th>2223</th>\n      <td>business/024.txt</td>\n      <td>US trade gap hits record in 2004..The gap betw...</td>\n      <td>The Commerce Department said the trade deficit...</td>\n      <td>324</td>\n      <td>148</td>\n    </tr>\n  </tbody>\n</table>\n<p>2145 rows × 5 columns</p>\n</div>"
          },
          "metadata": {}
        }
      ]
    },
    {
      "cell_type": "markdown",
      "source": [
        "# Preparing the data"
      ],
      "metadata": {
        "id": "_pa6leTvONkl"
      }
    },
    {
      "cell_type": "code",
      "source": [
        "# deleting some columns and shuffling the rows\n",
        "\n",
        "new_df.drop(columns=[\"num_words_article\",\"num_words_summary\",\"path\"])\n",
        "new_df = new_df.sample(frac = 1)\n",
        "new_df.reset_index(drop=True, inplace=False)"
      ],
      "metadata": {
        "execution": {
          "iopub.status.busy": "2023-08-21T11:16:52.804271Z",
          "iopub.execute_input": "2023-08-21T11:16:52.804995Z",
          "iopub.status.idle": "2023-08-21T11:16:52.824533Z",
          "shell.execute_reply.started": "2023-08-21T11:16:52.804952Z",
          "shell.execute_reply": "2023-08-21T11:16:52.822843Z"
        },
        "trusted": true,
        "id": "-P1KDZJAONkl",
        "outputId": "1898508c-dbd3-49c8-a53d-a6527249ac11"
      },
      "execution_count": null,
      "outputs": [
        {
          "execution_count": 16,
          "output_type": "execute_result",
          "data": {
            "text/plain": "                       path  \\\n0     entertainment/114.txt   \n1          politics/346.txt   \n2     entertainment/337.txt   \n3     entertainment/148.txt   \n4          politics/120.txt   \n...                     ...   \n2140       politics/162.txt   \n2141  entertainment/128.txt   \n2142  entertainment/073.txt   \n2143       business/471.txt   \n2144           tech/134.txt   \n\n                                                article  \\\n0     Pete Doherty misses bail deadline..Singer Pete...   \n1     Labour's four little words..Labour has unveile...   \n2     Career honour for actor DiCaprio..Actor Leonar...   \n3     Pupils to get anti-piracy lessons..Lessons on ...   \n4     Tory leader urges Harry apology..Prince Harry ...   \n...                                                 ...   \n2140  Protect whistleblowers, TUC says..The governme...   \n2141  Top gig award for Scissor Sisters..New York ba...   \n2142  Ray DVD beats box office takings..Oscar-nomina...   \n2143  Tsunami slows Sri Lanka's growth..Sri Lanka's ...   \n2144  Gates opens biggest gadget fair..Bill Gates ha...   \n\n                                                summary  num_words_article  \\\n0     Mr Wass was also given a curfew and told to su...                249   \n1     And Tony Blair would be in the very front line...                362   \n2     \"I was very happy that (DiCaprio) came and car...                232   \n3     Music piracy, including illegally swapping mus...                427   \n4     Mr Howard, whose grandmother died in Auschwitz...                390   \n...                                                 ...                ...   \n2140  The Health and Safety Executive said it was tr...                309   \n2141  New York band Scissor Sisters have won a gig o...                208   \n2142  Ray has been nominated in six Oscar categories...                205   \n2143  Meanwhile, the International Monetary Fund (IM...                477   \n2144  He highlighted technology trends over the last...                581   \n\n      num_words_summary  \n0                   110  \n1                   205  \n2                   113  \n3                   188  \n4                   182  \n...                 ...  \n2140                123  \n2141                 85  \n2142                 91  \n2143                186  \n2144                243  \n\n[2145 rows x 5 columns]",
            "text/html": "<div>\n<style scoped>\n    .dataframe tbody tr th:only-of-type {\n        vertical-align: middle;\n    }\n\n    .dataframe tbody tr th {\n        vertical-align: top;\n    }\n\n    .dataframe thead th {\n        text-align: right;\n    }\n</style>\n<table border=\"1\" class=\"dataframe\">\n  <thead>\n    <tr style=\"text-align: right;\">\n      <th></th>\n      <th>path</th>\n      <th>article</th>\n      <th>summary</th>\n      <th>num_words_article</th>\n      <th>num_words_summary</th>\n    </tr>\n  </thead>\n  <tbody>\n    <tr>\n      <th>0</th>\n      <td>entertainment/114.txt</td>\n      <td>Pete Doherty misses bail deadline..Singer Pete...</td>\n      <td>Mr Wass was also given a curfew and told to su...</td>\n      <td>249</td>\n      <td>110</td>\n    </tr>\n    <tr>\n      <th>1</th>\n      <td>politics/346.txt</td>\n      <td>Labour's four little words..Labour has unveile...</td>\n      <td>And Tony Blair would be in the very front line...</td>\n      <td>362</td>\n      <td>205</td>\n    </tr>\n    <tr>\n      <th>2</th>\n      <td>entertainment/337.txt</td>\n      <td>Career honour for actor DiCaprio..Actor Leonar...</td>\n      <td>\"I was very happy that (DiCaprio) came and car...</td>\n      <td>232</td>\n      <td>113</td>\n    </tr>\n    <tr>\n      <th>3</th>\n      <td>entertainment/148.txt</td>\n      <td>Pupils to get anti-piracy lessons..Lessons on ...</td>\n      <td>Music piracy, including illegally swapping mus...</td>\n      <td>427</td>\n      <td>188</td>\n    </tr>\n    <tr>\n      <th>4</th>\n      <td>politics/120.txt</td>\n      <td>Tory leader urges Harry apology..Prince Harry ...</td>\n      <td>Mr Howard, whose grandmother died in Auschwitz...</td>\n      <td>390</td>\n      <td>182</td>\n    </tr>\n    <tr>\n      <th>...</th>\n      <td>...</td>\n      <td>...</td>\n      <td>...</td>\n      <td>...</td>\n      <td>...</td>\n    </tr>\n    <tr>\n      <th>2140</th>\n      <td>politics/162.txt</td>\n      <td>Protect whistleblowers, TUC says..The governme...</td>\n      <td>The Health and Safety Executive said it was tr...</td>\n      <td>309</td>\n      <td>123</td>\n    </tr>\n    <tr>\n      <th>2141</th>\n      <td>entertainment/128.txt</td>\n      <td>Top gig award for Scissor Sisters..New York ba...</td>\n      <td>New York band Scissor Sisters have won a gig o...</td>\n      <td>208</td>\n      <td>85</td>\n    </tr>\n    <tr>\n      <th>2142</th>\n      <td>entertainment/073.txt</td>\n      <td>Ray DVD beats box office takings..Oscar-nomina...</td>\n      <td>Ray has been nominated in six Oscar categories...</td>\n      <td>205</td>\n      <td>91</td>\n    </tr>\n    <tr>\n      <th>2143</th>\n      <td>business/471.txt</td>\n      <td>Tsunami slows Sri Lanka's growth..Sri Lanka's ...</td>\n      <td>Meanwhile, the International Monetary Fund (IM...</td>\n      <td>477</td>\n      <td>186</td>\n    </tr>\n    <tr>\n      <th>2144</th>\n      <td>tech/134.txt</td>\n      <td>Gates opens biggest gadget fair..Bill Gates ha...</td>\n      <td>He highlighted technology trends over the last...</td>\n      <td>581</td>\n      <td>243</td>\n    </tr>\n  </tbody>\n</table>\n<p>2145 rows × 5 columns</p>\n</div>"
          },
          "metadata": {}
        }
      ]
    },
    {
      "cell_type": "code",
      "source": [
        "# splitting the data into train and test\n",
        "\n",
        "ratio = 0.8\n",
        "split = int(len(new_df)*ratio)\n",
        "\n",
        "train_df = new_df.iloc[:split]\n",
        "test_df = new_df.iloc[split:]"
      ],
      "metadata": {
        "execution": {
          "iopub.status.busy": "2023-08-21T11:16:52.825972Z",
          "iopub.execute_input": "2023-08-21T11:16:52.826333Z",
          "iopub.status.idle": "2023-08-21T11:16:52.832181Z",
          "shell.execute_reply.started": "2023-08-21T11:16:52.826298Z",
          "shell.execute_reply": "2023-08-21T11:16:52.830928Z"
        },
        "trusted": true,
        "id": "fJ7nALbEONkl"
      },
      "execution_count": null,
      "outputs": []
    },
    {
      "cell_type": "code",
      "source": [
        "# convert the DataFrame into DatasetDict\n",
        "\n",
        "train_dataset = Dataset.from_dict(train_df)\n",
        "test_dataset = Dataset.from_dict(test_df)\n",
        "dataset = datasets.DatasetDict({\"train\":train_dataset,\"test\":test_dataset})\n",
        "dataset"
      ],
      "metadata": {
        "execution": {
          "iopub.status.busy": "2023-08-21T11:16:52.833899Z",
          "iopub.execute_input": "2023-08-21T11:16:52.834644Z",
          "iopub.status.idle": "2023-08-21T11:16:52.883531Z",
          "shell.execute_reply.started": "2023-08-21T11:16:52.834608Z",
          "shell.execute_reply": "2023-08-21T11:16:52.882572Z"
        },
        "trusted": true,
        "id": "-oSJjiliONkl",
        "outputId": "a6aa4718-a5a2-4cd2-ae1f-04811fdf49c5"
      },
      "execution_count": null,
      "outputs": [
        {
          "execution_count": 18,
          "output_type": "execute_result",
          "data": {
            "text/plain": "DatasetDict({\n    train: Dataset({\n        features: ['path', 'article', 'summary', 'num_words_article', 'num_words_summary'],\n        num_rows: 1716\n    })\n    test: Dataset({\n        features: ['path', 'article', 'summary', 'num_words_article', 'num_words_summary'],\n        num_rows: 429\n    })\n})"
          },
          "metadata": {}
        }
      ]
    },
    {
      "cell_type": "code",
      "source": [
        "max_input_length = int(article_upper_whisker)\n",
        "max_target_length = int(summary_upper_whisker)\n",
        "\n",
        "def preprocess_function(examples):\n",
        "    model_inputs = tokenizer(\n",
        "        examples[\"article\"],\n",
        "        max_length=max_input_length,\n",
        "        truncation=True,\n",
        "    )\n",
        "    labels = tokenizer(\n",
        "        examples[\"summary\"], max_length=max_target_length, truncation=True\n",
        "    )\n",
        "    model_inputs[\"labels\"] = labels[\"input_ids\"]\n",
        "    return model_inputs"
      ],
      "metadata": {
        "execution": {
          "iopub.status.busy": "2023-08-21T11:16:52.884871Z",
          "iopub.execute_input": "2023-08-21T11:16:52.885184Z",
          "iopub.status.idle": "2023-08-21T11:16:52.891573Z",
          "shell.execute_reply.started": "2023-08-21T11:16:52.885152Z",
          "shell.execute_reply": "2023-08-21T11:16:52.890402Z"
        },
        "trusted": true,
        "id": "JUzqJR7HONkl"
      },
      "execution_count": null,
      "outputs": []
    },
    {
      "cell_type": "code",
      "source": [
        "tokenized_datasets = dataset.map(preprocess_function, batched=True)"
      ],
      "metadata": {
        "execution": {
          "iopub.status.busy": "2023-08-21T11:16:52.893176Z",
          "iopub.execute_input": "2023-08-21T11:16:52.893802Z",
          "iopub.status.idle": "2023-08-21T11:16:57.390549Z",
          "shell.execute_reply.started": "2023-08-21T11:16:52.893769Z",
          "shell.execute_reply": "2023-08-21T11:16:57.389508Z"
        },
        "trusted": true,
        "colab": {
          "referenced_widgets": [
            "b7b98665187541d6880b1a62b4c0b75a",
            "38f3d075d4dd4cfebdd3ed6b394c9da9"
          ]
        },
        "id": "-TpMHjMmONkm",
        "outputId": "92de2eee-4f53-4b10-942f-6e21d76aeddd"
      },
      "execution_count": null,
      "outputs": [
        {
          "output_type": "display_data",
          "data": {
            "text/plain": "  0%|          | 0/2 [00:00<?, ?ba/s]",
            "application/vnd.jupyter.widget-view+json": {
              "version_major": 2,
              "version_minor": 0,
              "model_id": "b7b98665187541d6880b1a62b4c0b75a"
            }
          },
          "metadata": {}
        },
        {
          "output_type": "display_data",
          "data": {
            "text/plain": "  0%|          | 0/1 [00:00<?, ?ba/s]",
            "application/vnd.jupyter.widget-view+json": {
              "version_major": 2,
              "version_minor": 0,
              "model_id": "38f3d075d4dd4cfebdd3ed6b394c9da9"
            }
          },
          "metadata": {}
        }
      ]
    },
    {
      "cell_type": "markdown",
      "source": [
        "# ROUGE\n",
        "\n",
        "ROUGE, or Recall-Oriented Understudy for Gisting Evaluation, is a set of metrics and a software package used for evaluating automatic summarization and machine translation software in natural language processing. The metrics compare an automatically produced summary or translation against a reference or a set of references (human-produced) summary or translation.\n",
        "\n",
        "Note that ROUGE is case insensitive, meaning that upper case letters are treated the same way as lower case letters."
      ],
      "metadata": {
        "id": "SPZDPEPRONkm"
      }
    },
    {
      "cell_type": "markdown",
      "source": [
        "# ROUGE\n",
        "\n",
        "\n",
        "    \n",
        "* predictions (list): list of predictions to score. Each prediction should be a string with tokens separated by spaces.\n",
        "    \n",
        "* references (list or list[list]): list of reference for each prediction or a list of several references per prediction. Each reference should be a string with tokens separated by spaces.\n",
        "    \n",
        "* rouge_types (list): A list of rouge types to calculate. Defaults to ['rouge1', 'rouge2', 'rougeL', 'rougeLsum'].\n",
        "\n",
        "    Valid rouge types:\n",
        "    \n",
        "\n",
        "    \"rouge1\": unigram (1-gram) based scoring\n",
        "\n",
        "    \"rouge2\": bigram (2-gram) based scoring\n",
        "\n",
        "    \"rougeL\": Longest common subsequence based scoring.\n",
        "\n",
        "    \"rougeLSum\": splits text using \"\\n\"\n",
        "    \n"
      ],
      "metadata": {
        "id": "KDMWJCwOONkm"
      }
    },
    {
      "cell_type": "markdown",
      "source": [
        "<div style=\"background-color:#cdd3dd; color:##cdd3dd; font-size:18px; font-family:cursive; padding:10px; border: 5px solid #19180F;\">\n",
        "Output Values\n",
        "    \n",
        "The output is a dictionary with one entry for each rouge type in the input list rouge_types."
      ],
      "metadata": {
        "id": "9GrKLgYlONkm"
      }
    },
    {
      "cell_type": "code",
      "source": [
        "import evaluate\n",
        "\n",
        "rouge_score = evaluate.load(\"rouge\")"
      ],
      "metadata": {
        "execution": {
          "iopub.status.busy": "2023-08-21T11:16:57.392443Z",
          "iopub.execute_input": "2023-08-21T11:16:57.393204Z",
          "iopub.status.idle": "2023-08-21T11:16:57.902857Z",
          "shell.execute_reply.started": "2023-08-21T11:16:57.393166Z",
          "shell.execute_reply": "2023-08-21T11:16:57.901875Z"
        },
        "trusted": true,
        "colab": {
          "referenced_widgets": [
            "f58c86d248ed4dc6a4b4a50d6b46fe7e"
          ]
        },
        "id": "vz5E1fuYONkm",
        "outputId": "31958103-ca4d-468c-d4f8-297ae968bed4"
      },
      "execution_count": null,
      "outputs": [
        {
          "output_type": "display_data",
          "data": {
            "text/plain": "Downloading builder script:   0%|          | 0.00/6.27k [00:00<?, ?B/s]",
            "application/vnd.jupyter.widget-view+json": {
              "version_major": 2,
              "version_minor": 0,
              "model_id": "f58c86d248ed4dc6a4b4a50d6b46fe7e"
            }
          },
          "metadata": {}
        }
      ]
    },
    {
      "cell_type": "code",
      "source": [
        "# example on using rouge\n",
        "\n",
        "generated_summary = \"I absolutely loved reading the Hunger Games\"\n",
        "reference_summary = \"I loved reading the Hunger Games\"\n",
        "scores = rouge_score.compute(predictions=[generated_summary], references=[reference_summary])\n",
        "scores"
      ],
      "metadata": {
        "execution": {
          "iopub.status.busy": "2023-08-21T11:16:57.904400Z",
          "iopub.execute_input": "2023-08-21T11:16:57.904775Z",
          "iopub.status.idle": "2023-08-21T11:16:58.139656Z",
          "shell.execute_reply.started": "2023-08-21T11:16:57.904741Z",
          "shell.execute_reply": "2023-08-21T11:16:58.138433Z"
        },
        "trusted": true,
        "id": "NVgAuEr-ONkm",
        "outputId": "a3834b70-4d00-410f-94b0-711c6b7ec166"
      },
      "execution_count": null,
      "outputs": [
        {
          "execution_count": 22,
          "output_type": "execute_result",
          "data": {
            "text/plain": "{'rouge1': 0.923076923076923,\n 'rouge2': 0.7272727272727272,\n 'rougeL': 0.923076923076923,\n 'rougeLsum': 0.923076923076923}"
          },
          "metadata": {}
        }
      ]
    },
    {
      "cell_type": "code",
      "source": [
        "def compute_metrics(eval_pred):\n",
        "    predictions, labels = eval_pred\n",
        "\n",
        "    # Decode generated summaries into text\n",
        "    decoded_preds = tokenizer.batch_decode(predictions, skip_special_tokens=True)\n",
        "\n",
        "    # Replace -100 in the labels as we can't decode them\n",
        "    labels = np.where(labels != -100, labels, tokenizer.pad_token_id)\n",
        "\n",
        "    # Decode reference summaries into text\n",
        "    decoded_labels = tokenizer.batch_decode(labels, skip_special_tokens=True)\n",
        "\n",
        "    # ROUGE expects a newline after each sentence\n",
        "    decoded_preds = [\"\\n\".join(sent_tokenize(pred.strip())) for pred in decoded_preds]\n",
        "    decoded_labels = [\"\\n\".join(sent_tokenize(label.strip())) for label in decoded_labels]\n",
        "\n",
        "    # Compute ROUGE scores\n",
        "    result = rouge_score.compute(predictions=decoded_preds, references=decoded_labels, use_stemmer=True)\n",
        "\n",
        "    return {k: round(v, 4) for k, v in result.items()}"
      ],
      "metadata": {
        "execution": {
          "iopub.status.busy": "2023-08-21T11:16:58.141272Z",
          "iopub.execute_input": "2023-08-21T11:16:58.141705Z",
          "iopub.status.idle": "2023-08-21T11:16:58.150891Z",
          "shell.execute_reply.started": "2023-08-21T11:16:58.141665Z",
          "shell.execute_reply": "2023-08-21T11:16:58.149716Z"
        },
        "trusted": true,
        "id": "fJFmmtuuONkm"
      },
      "execution_count": null,
      "outputs": []
    },
    {
      "cell_type": "markdown",
      "source": [
        "# Generating Summaries using Pipline"
      ],
      "metadata": {
        "id": "9yuDKStXONkn"
      }
    },
    {
      "cell_type": "code",
      "source": [
        "summarizer = pipeline(\"summarization\", model=model_ckpt)"
      ],
      "metadata": {
        "execution": {
          "iopub.status.busy": "2023-08-21T11:16:58.152628Z",
          "iopub.execute_input": "2023-08-21T11:16:58.153167Z",
          "iopub.status.idle": "2023-08-21T11:17:01.846507Z",
          "shell.execute_reply.started": "2023-08-21T11:16:58.153131Z",
          "shell.execute_reply": "2023-08-21T11:17:01.845548Z"
        },
        "trusted": true,
        "id": "Ks9SwQ9uONkn"
      },
      "execution_count": null,
      "outputs": []
    },
    {
      "cell_type": "code",
      "source": [
        "def print_summary(idx):\n",
        "    article = dataset[\"test\"][idx][\"article\"]\n",
        "    summary = dataset[\"test\"][idx][\"summary\"]\n",
        "    g_summary = summarizer(dataset[\"test\"][idx][\"article\"])[0][\"summary_text\"]\n",
        "    score = rouge_score.compute(predictions=[g_summary], references=[summary])\n",
        "    scores = {k: round(v, 4) for k, v in score.items()}\n",
        "    print(f\"'>>> Article: {article}'\")\n",
        "    print(f\"\\n'>>> Summary: {summary}'\")\n",
        "    print(f\"\\n'>>> Generated Summary: {g_summary}'\")\n",
        "    print(f\"\\n'>>> ROUGE Score: {scores}'\")"
      ],
      "metadata": {
        "execution": {
          "iopub.status.busy": "2023-08-21T11:17:01.847912Z",
          "iopub.execute_input": "2023-08-21T11:17:01.848453Z",
          "iopub.status.idle": "2023-08-21T11:17:01.856247Z",
          "shell.execute_reply.started": "2023-08-21T11:17:01.848403Z",
          "shell.execute_reply": "2023-08-21T11:17:01.855034Z"
        },
        "trusted": true,
        "id": "D4tsGFfGONkn"
      },
      "execution_count": null,
      "outputs": []
    },
    {
      "cell_type": "code",
      "source": [
        "print_summary(5)"
      ],
      "metadata": {
        "execution": {
          "iopub.status.busy": "2023-08-21T11:17:01.857809Z",
          "iopub.execute_input": "2023-08-21T11:17:01.858320Z",
          "iopub.status.idle": "2023-08-21T11:17:14.512585Z",
          "shell.execute_reply.started": "2023-08-21T11:17:01.858283Z",
          "shell.execute_reply": "2023-08-21T11:17:14.511343Z"
        },
        "trusted": true,
        "id": "sazrequYONkn",
        "outputId": "1f26c54a-78c7-41f0-8eba-93d624e7e5b5"
      },
      "execution_count": null,
      "outputs": [
        {
          "name": "stdout",
          "text": "'>>> Article: Famed music director Viotti dies..Conductor Marcello Viotti, director of Venice's famous La Fenice Theatre, has died in Germany at 50...Viotti, director of La Fenice since 2002, conducted at renowned opera houses worldwide including Milan's La Scala and the Vienna State Opera. His time at La Fenice coincided with its reopening in 2003 after it was destroyed by fire in 1996. He fell into a coma after suffering a stroke during rehearsals for Jules Massenet's Manon last week...He conducted some of the best orchestras in the world including the Berlin Philharmonic and the English Chamber Orchestra. Viotti was born in Switzerland and studied the piano, cello and singing at the Lausanne Conservatory. His career breakthrough came in 1982 when he won first prize at the Gino Marinuzzi conducting competition in Italy. Viotti established himself as chief conductor of the Turin Opera and went on to become chief conductor of Munich's Radio Orchestra. At La Fenice Viotti was widely acclaimed for his production of the French composer Massenet's Thais and some of his other productions included Giuseppe Verdi's La Traviata and Richard Strauss's Ariadne auf Naxos...The last opera he directed at La Fenice was Massenet's Le Roi de Lahore. Viotti's debut at the New York's Metropolitan Opera came in 2000 with Giacomo Puccini's Madame Butterfly, followed by La Boheme, La Traviata and Fromental Halevy's La Juive. Giampaolo Vianello, superintendent of the Fenice Theatre Foundation, said: \"I am filled with extreme sadness because, other than a great artist, he is missed as a friend - a main character in the latest joyous times, during the rebirth of our theatre.\" Viotti's last public performance was on 5 February when he conducted Vincenzo Bellini's Norma at the Vienna State Opera.'\n\n'>>> Summary: Viotti, director of La Fenice since 2002, conducted at renowned opera houses worldwide including Milan's La Scala and the Vienna State Opera.The last opera he directed at La Fenice was Massenet's Le Roi de Lahore.At La Fenice Viotti was widely acclaimed for his production of the French composer Massenet's Thais and some of his other productions included Giuseppe Verdi's La Traviata and Richard Strauss's Ariadne auf Naxos.Conductor Marcello Viotti, director of Venice's famous La Fenice Theatre, has died in Germany at 50.Viotti's debut at the New York's Metropolitan Opera came in 2000 with Giacomo Puccini's Madame Butterfly, followed by La Boheme, La Traviata and Fromental Halevy's La Juive.His time at La Fenice coincided with its reopening in 2003 after it was destroyed by fire in 1996.'\n\n'>>> Generated Summary: Famed music director Viotti dies..Conductor Marcello Viotti, director of Venice's famous La Fenice Theatre, has died in Germany at 50...Viotti was a renowned music director and conductor of the world's best orchestras. He conducted at renowned opera houses worldwide including Milan's La Scala and the Vienna State Opera. He was one of the best-known composers in the world. Viotti was a member of the Italian National Opera and the New York's Metropolitan Opera, where he was the artistic director for more than 20 years. His time at La FenICE coincided with its reopening in'\n\n'>>> ROUGE Score: {'rouge1': 0.562, 'rouge2': 0.4083, 'rougeL': 0.3636, 'rougeLsum': 0.3636}'\n",
          "output_type": "stream"
        }
      ]
    },
    {
      "cell_type": "markdown",
      "source": [
        "# Fine-tuning BART with BBC News dataset"
      ],
      "metadata": {
        "id": "9HpQ6cG1ONkn"
      }
    },
    {
      "cell_type": "code",
      "source": [
        "# creating data_collator\n",
        "# A data_collator is a function that takes a batch of data and collates it into a format suitable for model training\n",
        "\n",
        "data_collator = DataCollatorForSeq2Seq(tokenizer, model=model)"
      ],
      "metadata": {
        "execution": {
          "iopub.status.busy": "2023-08-21T11:17:14.514023Z",
          "iopub.execute_input": "2023-08-21T11:17:14.515765Z",
          "iopub.status.idle": "2023-08-21T11:17:14.520836Z",
          "shell.execute_reply.started": "2023-08-21T11:17:14.515727Z",
          "shell.execute_reply": "2023-08-21T11:17:14.519680Z"
        },
        "trusted": true,
        "id": "yhKYPPB8ONkr"
      },
      "execution_count": null,
      "outputs": []
    },
    {
      "cell_type": "code",
      "source": [
        "# removing the columns with strings because the collator won’t know how to pad these elements\n",
        "\n",
        "tokenized_datasets = tokenized_datasets.remove_columns(dataset[\"train\"].column_names)"
      ],
      "metadata": {
        "execution": {
          "iopub.status.busy": "2023-08-21T11:17:14.526788Z",
          "iopub.execute_input": "2023-08-21T11:17:14.527141Z",
          "iopub.status.idle": "2023-08-21T11:17:14.539622Z",
          "shell.execute_reply.started": "2023-08-21T11:17:14.527102Z",
          "shell.execute_reply": "2023-08-21T11:17:14.538185Z"
        },
        "trusted": true,
        "id": "9bDYodiCONkr"
      },
      "execution_count": null,
      "outputs": []
    },
    {
      "cell_type": "code",
      "source": [
        "batch_size = 8\n",
        "num_train_epochs = 8\n",
        "# Show the training loss with every epoch\n",
        "logging_steps = len(tokenized_datasets[\"train\"]) // batch_size\n",
        "model_name = model_ckpt\n",
        "\n",
        "args = Seq2SeqTrainingArguments(\n",
        "    output_dir=f\"{model_name}-finetuned-BBC\",\n",
        "    evaluation_strategy=\"epoch\",\n",
        "    learning_rate=5.6e-5,\n",
        "    per_device_train_batch_size=batch_size,\n",
        "    per_device_eval_batch_size=batch_size,\n",
        "    weight_decay=0.01,\n",
        "    save_total_limit=3,\n",
        "    num_train_epochs=num_train_epochs,\n",
        "    predict_with_generate=True,\n",
        "    logging_steps=logging_steps,\n",
        "    push_to_hub=True,)"
      ],
      "metadata": {
        "execution": {
          "iopub.status.busy": "2023-08-21T11:17:14.541290Z",
          "iopub.execute_input": "2023-08-21T11:17:14.541937Z",
          "iopub.status.idle": "2023-08-21T11:17:14.552367Z",
          "shell.execute_reply.started": "2023-08-21T11:17:14.541901Z",
          "shell.execute_reply": "2023-08-21T11:17:14.551749Z"
        },
        "trusted": true,
        "id": "7F_XbCNsONks"
      },
      "execution_count": null,
      "outputs": []
    },
    {
      "cell_type": "code",
      "source": [
        "trainer = Seq2SeqTrainer(\n",
        "    model,\n",
        "    args,\n",
        "    train_dataset=tokenized_datasets[\"train\"],\n",
        "    eval_dataset=tokenized_datasets[\"test\"],\n",
        "    data_collator=data_collator,\n",
        "    tokenizer=tokenizer,\n",
        "    compute_metrics=compute_metrics,)"
      ],
      "metadata": {
        "execution": {
          "iopub.status.busy": "2023-08-21T11:17:14.553606Z",
          "iopub.execute_input": "2023-08-21T11:17:14.554517Z",
          "iopub.status.idle": "2023-08-21T11:17:19.356554Z",
          "shell.execute_reply.started": "2023-08-21T11:17:14.554463Z",
          "shell.execute_reply": "2023-08-21T11:17:19.355552Z"
        },
        "trusted": true,
        "id": "9m0avv2HONks",
        "outputId": "467b4917-8050-4ee0-ccf5-fee228e24e0a"
      },
      "execution_count": null,
      "outputs": [
        {
          "name": "stderr",
          "text": "Cloning https://huggingface.co/MohamedMagdi191/bart-base-finetuned-BBC2 into local empty directory.\n",
          "output_type": "stream"
        }
      ]
    },
    {
      "cell_type": "code",
      "source": [
        "trainer.train()"
      ],
      "metadata": {
        "execution": {
          "iopub.status.busy": "2023-08-21T11:17:19.358376Z",
          "iopub.execute_input": "2023-08-21T11:17:19.358814Z",
          "iopub.status.idle": "2023-08-21T11:46:05.764033Z",
          "shell.execute_reply.started": "2023-08-21T11:17:19.358780Z",
          "shell.execute_reply": "2023-08-21T11:46:05.762875Z"
        },
        "trusted": true,
        "id": "3Y_pEZr_ONks",
        "outputId": "72826f63-4112-477c-f349-f7556dfda7fa"
      },
      "execution_count": null,
      "outputs": [
        {
          "name": "stderr",
          "text": "/opt/conda/lib/python3.10/site-packages/transformers/optimization.py:411: FutureWarning: This implementation of AdamW is deprecated and will be removed in a future version. Use the PyTorch implementation torch.optim.AdamW instead, or set `no_deprecation_warning=True` to disable this warning\n  warnings.warn(\n\u001b[34m\u001b[1mwandb\u001b[0m: Currently logged in as: \u001b[33mmmagdy191\u001b[0m (\u001b[33mmohamed-magdy\u001b[0m). Use \u001b[1m`wandb login --relogin`\u001b[0m to force relogin\n",
          "output_type": "stream"
        },
        {
          "output_type": "display_data",
          "data": {
            "text/plain": "<IPython.core.display.HTML object>",
            "text/html": "Tracking run with wandb version 0.15.8"
          },
          "metadata": {}
        },
        {
          "output_type": "display_data",
          "data": {
            "text/plain": "<IPython.core.display.HTML object>",
            "text/html": "Run data is saved locally in <code>/kaggle/working/wandb/run-20230821_111719-lbva99n4</code>"
          },
          "metadata": {}
        },
        {
          "output_type": "display_data",
          "data": {
            "text/plain": "<IPython.core.display.HTML object>",
            "text/html": "Syncing run <strong><a href='https://wandb.ai/mohamed-magdy/huggingface/runs/lbva99n4' target=\"_blank\">zany-microwave-9</a></strong> to <a href='https://wandb.ai/mohamed-magdy/huggingface' target=\"_blank\">Weights & Biases</a> (<a href='https://wandb.me/run' target=\"_blank\">docs</a>)<br/>"
          },
          "metadata": {}
        },
        {
          "output_type": "display_data",
          "data": {
            "text/plain": "<IPython.core.display.HTML object>",
            "text/html": " View project at <a href='https://wandb.ai/mohamed-magdy/huggingface' target=\"_blank\">https://wandb.ai/mohamed-magdy/huggingface</a>"
          },
          "metadata": {}
        },
        {
          "output_type": "display_data",
          "data": {
            "text/plain": "<IPython.core.display.HTML object>",
            "text/html": " View run at <a href='https://wandb.ai/mohamed-magdy/huggingface/runs/lbva99n4' target=\"_blank\">https://wandb.ai/mohamed-magdy/huggingface/runs/lbva99n4</a>"
          },
          "metadata": {}
        },
        {
          "name": "stderr",
          "text": "You're using a BartTokenizerFast tokenizer. Please note that with a fast tokenizer, using the `__call__` method is faster than using a method to encode the text followed by a call to the `pad` method to get a padded encoding.\n/opt/conda/lib/python3.10/site-packages/torch/nn/parallel/_functions.py:68: UserWarning: Was asked to gather along dimension 0, but all input tensors were scalars; will instead unsqueeze and return a vector.\n  warnings.warn('Was asked to gather along dimension 0, but all '\n",
          "output_type": "stream"
        },
        {
          "output_type": "display_data",
          "data": {
            "text/plain": "<IPython.core.display.HTML object>",
            "text/html": "\n    <div>\n      \n      <progress value='864' max='864' style='width:300px; height:20px; vertical-align: middle;'></progress>\n      [864/864 28:04, Epoch 8/8]\n    </div>\n    <table border=\"1\" class=\"dataframe\">\n  <thead>\n <tr style=\"text-align: left;\">\n      <th>Epoch</th>\n      <th>Training Loss</th>\n      <th>Validation Loss</th>\n      <th>Rouge1</th>\n      <th>Rouge2</th>\n      <th>Rougel</th>\n      <th>Rougelsum</th>\n    </tr>\n  </thead>\n  <tbody>\n    <tr>\n      <td>1</td>\n      <td>No log</td>\n      <td>0.179464</td>\n      <td>0.164100</td>\n      <td>0.142000</td>\n      <td>0.160000</td>\n      <td>0.160500</td>\n    </tr>\n    <tr>\n      <td>2</td>\n      <td>0.273800</td>\n      <td>0.158697</td>\n      <td>0.172800</td>\n      <td>0.154300</td>\n      <td>0.169500</td>\n      <td>0.169800</td>\n    </tr>\n    <tr>\n      <td>3</td>\n      <td>0.273800</td>\n      <td>0.147953</td>\n      <td>0.172900</td>\n      <td>0.156800</td>\n      <td>0.170600</td>\n      <td>0.170800</td>\n    </tr>\n    <tr>\n      <td>4</td>\n      <td>0.155500</td>\n      <td>0.142649</td>\n      <td>0.174400</td>\n      <td>0.158700</td>\n      <td>0.172200</td>\n      <td>0.172500</td>\n    </tr>\n    <tr>\n      <td>5</td>\n      <td>0.155500</td>\n      <td>0.140011</td>\n      <td>0.176600</td>\n      <td>0.162500</td>\n      <td>0.175000</td>\n      <td>0.175300</td>\n    </tr>\n    <tr>\n      <td>6</td>\n      <td>0.125500</td>\n      <td>0.138108</td>\n      <td>0.178200</td>\n      <td>0.164800</td>\n      <td>0.177100</td>\n      <td>0.177200</td>\n    </tr>\n    <tr>\n      <td>7</td>\n      <td>0.125500</td>\n      <td>0.136338</td>\n      <td>0.176600</td>\n      <td>0.162800</td>\n      <td>0.175400</td>\n      <td>0.175400</td>\n    </tr>\n    <tr>\n      <td>8</td>\n      <td>0.106500</td>\n      <td>0.136057</td>\n      <td>0.177700</td>\n      <td>0.164200</td>\n      <td>0.176600</td>\n      <td>0.176600</td>\n    </tr>\n  </tbody>\n</table><p>"
          },
          "metadata": {}
        },
        {
          "name": "stderr",
          "text": "/opt/conda/lib/python3.10/site-packages/torch/nn/parallel/_functions.py:68: UserWarning: Was asked to gather along dimension 0, but all input tensors were scalars; will instead unsqueeze and return a vector.\n  warnings.warn('Was asked to gather along dimension 0, but all '\n",
          "output_type": "stream"
        },
        {
          "execution_count": 31,
          "output_type": "execute_result",
          "data": {
            "text/plain": "TrainOutput(global_step=864, training_loss=0.16472819564795052, metrics={'train_runtime': 1726.037, 'train_samples_per_second': 7.953, 'train_steps_per_second': 0.501, 'total_flos': 6202501249351680.0, 'train_loss': 0.16472819564795052, 'epoch': 8.0})"
          },
          "metadata": {}
        }
      ]
    },
    {
      "cell_type": "markdown",
      "source": [
        "# Inference"
      ],
      "metadata": {
        "id": "mo9uIe8lONks"
      }
    },
    {
      "cell_type": "code",
      "source": [
        "hub_model_id = \"MohamedMagdi191/bart-base-finetuned-BBC\"\n",
        "summarizer = pipeline(\"summarization\", model=hub_model_id)"
      ],
      "metadata": {
        "execution": {
          "iopub.status.busy": "2023-08-21T11:46:05.765681Z",
          "iopub.execute_input": "2023-08-21T11:46:05.766328Z",
          "iopub.status.idle": "2023-08-21T11:46:22.380313Z",
          "shell.execute_reply.started": "2023-08-21T11:46:05.766287Z",
          "shell.execute_reply": "2023-08-21T11:46:22.379151Z"
        },
        "_kg_hide-output": true,
        "trusted": true,
        "colab": {
          "referenced_widgets": [
            "09b89c4c145e45348c5ff2c2e921690c",
            "e967cf37cc484ed0a390f006bc029390",
            "4128ec0a20f64525a91abd8ca233f954",
            "344eb5ec722d4c8aa0e641cd749f96de",
            "2b02145e730b48a1a3d3f4efb895a510",
            "e17f1c4b23854955866ca19a9f1efd46",
            "ad189084d98d468e8c34aa5b2a736f24"
          ]
        },
        "id": "wTFVkjUwONks",
        "outputId": "305d0219-9ad4-4adb-9fef-889664c77da8"
      },
      "execution_count": null,
      "outputs": [
        {
          "output_type": "display_data",
          "data": {
            "text/plain": "Downloading (…)lve/main/config.json:   0%|          | 0.00/1.74k [00:00<?, ?B/s]",
            "application/vnd.jupyter.widget-view+json": {
              "version_major": 2,
              "version_minor": 0,
              "model_id": "09b89c4c145e45348c5ff2c2e921690c"
            }
          },
          "metadata": {}
        },
        {
          "output_type": "display_data",
          "data": {
            "text/plain": "Downloading pytorch_model.bin:   0%|          | 0.00/558M [00:00<?, ?B/s]",
            "application/vnd.jupyter.widget-view+json": {
              "version_major": 2,
              "version_minor": 0,
              "model_id": "e967cf37cc484ed0a390f006bc029390"
            }
          },
          "metadata": {}
        },
        {
          "output_type": "display_data",
          "data": {
            "text/plain": "Downloading (…)okenizer_config.json:   0%|          | 0.00/349 [00:00<?, ?B/s]",
            "application/vnd.jupyter.widget-view+json": {
              "version_major": 2,
              "version_minor": 0,
              "model_id": "4128ec0a20f64525a91abd8ca233f954"
            }
          },
          "metadata": {}
        },
        {
          "output_type": "display_data",
          "data": {
            "text/plain": "Downloading (…)olve/main/vocab.json:   0%|          | 0.00/798k [00:00<?, ?B/s]",
            "application/vnd.jupyter.widget-view+json": {
              "version_major": 2,
              "version_minor": 0,
              "model_id": "344eb5ec722d4c8aa0e641cd749f96de"
            }
          },
          "metadata": {}
        },
        {
          "output_type": "display_data",
          "data": {
            "text/plain": "Downloading (…)olve/main/merges.txt:   0%|          | 0.00/456k [00:00<?, ?B/s]",
            "application/vnd.jupyter.widget-view+json": {
              "version_major": 2,
              "version_minor": 0,
              "model_id": "2b02145e730b48a1a3d3f4efb895a510"
            }
          },
          "metadata": {}
        },
        {
          "output_type": "display_data",
          "data": {
            "text/plain": "Downloading (…)/main/tokenizer.json:   0%|          | 0.00/2.11M [00:00<?, ?B/s]",
            "application/vnd.jupyter.widget-view+json": {
              "version_major": 2,
              "version_minor": 0,
              "model_id": "e17f1c4b23854955866ca19a9f1efd46"
            }
          },
          "metadata": {}
        },
        {
          "output_type": "display_data",
          "data": {
            "text/plain": "Downloading (…)cial_tokens_map.json:   0%|          | 0.00/280 [00:00<?, ?B/s]",
            "application/vnd.jupyter.widget-view+json": {
              "version_major": 2,
              "version_minor": 0,
              "model_id": "ad189084d98d468e8c34aa5b2a736f24"
            }
          },
          "metadata": {}
        }
      ]
    },
    {
      "cell_type": "code",
      "source": [
        "def test(dataset):\n",
        "    summary = dataset[\"test\"][\"summary\"]\n",
        "    g_summary = [summarizer(dataset[\"test\"][idx][\"article\"])[0][\"summary_text\"] for idx in range(len(dataset[\"test\"]))]\n",
        "    score = rouge_score.compute(predictions=g_summary, references=summary)\n",
        "    scores = {k: round(v, 4) for k, v in score.items()}\n",
        "    print(f\"\\n'>>> ROUGE Score: {scores}'\")"
      ],
      "metadata": {
        "execution": {
          "iopub.status.busy": "2023-08-21T11:46:22.382173Z",
          "iopub.execute_input": "2023-08-21T11:46:22.382915Z",
          "iopub.status.idle": "2023-08-21T11:46:22.391529Z",
          "shell.execute_reply.started": "2023-08-21T11:46:22.382861Z",
          "shell.execute_reply": "2023-08-21T11:46:22.390459Z"
        },
        "trusted": true,
        "id": "db8w1PoeONks"
      },
      "execution_count": null,
      "outputs": []
    },
    {
      "cell_type": "code",
      "source": [
        "test(dataset)"
      ],
      "metadata": {
        "execution": {
          "iopub.status.busy": "2023-08-21T11:46:22.393007Z",
          "iopub.execute_input": "2023-08-21T11:46:22.393633Z",
          "iopub.status.idle": "2023-08-21T13:10:26.855768Z",
          "shell.execute_reply.started": "2023-08-21T11:46:22.393600Z",
          "shell.execute_reply": "2023-08-21T13:10:26.854573Z"
        },
        "trusted": true,
        "id": "9rxcZ3KtONkt",
        "outputId": "09a840d0-b876-47c0-ee42-90985866eacf"
      },
      "execution_count": null,
      "outputs": [
        {
          "name": "stdout",
          "text": "\n'>>> ROUGE Score: {'rouge1': 0.6899, 'rouge2': 0.636, 'rougeL': 0.5407, 'rougeLsum': 0.541}'\n",
          "output_type": "stream"
        }
      ]
    },
    {
      "cell_type": "markdown",
      "source": [
        "# References\n",
        "\n",
        "* Large Language Model's Architectural Diagrams: https://www.kaggle.com/datasets/suraj520/notebook-images\n",
        "* HuggingFace NLP course: https://huggingface.co/learn/nlp-course/chapter7/5?fw=pt#metrics-for-text-summarization\n",
        "* Rouge metric: https://huggingface.co/spaces/evaluate-metric/rouge"
      ],
      "metadata": {
        "id": "e1kunjxGONkt"
      }
    }
  ]
}